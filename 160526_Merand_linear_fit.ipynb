{
 "cells": [
  {
   "cell_type": "markdown",
   "metadata": {},
   "source": [
    "# Master the linear fit \n",
    "## uncertainties, interpolation and extrapolation\n",
    "More Coffee, More Confidence [ESO Chile 26/05/2016 - Antoine Mérand]\n",
    "\n",
    "For the vast majority of the numerical problems we encounter as astronomers consist of comparing a model to some data, and adjust the parameters of the model to the data. "
   ]
  },
  {
   "cell_type": "markdown",
   "metadata": {},
   "source": [
    "## Context\n",
    "\n",
    "Fitting a straight line is the most basic data fitting everybody should master. The widest used technique is to minimize the L2 distance between the data points (Xi,Yi) and the model f(x) = a.x + b:\n",
    "\n",
    "$$ L_2 = \\sum_i \\left| Y_i - aX_i - b\\right|^2$$ \n",
    "\n",
    "This is also called a $\\chi^2$. Note that the minimum has an analytical solution:\n",
    "$$ \\partial \\chi^2 / \\partial a = 0 , \\partial \\chi^2 / \\partial b = 0 $$\n",
    "i.e.\n",
    "$$ \\partial \\chi^2 / \\partial a = \\sum_i -2\\times X_i\\left( Y_i - a\\times X_i - b\\right) = 0 $$\n",
    "$$ \\partial \\chi^2 / \\partial b = \\sum_i -2\\times \\left( Y_i - a\\times X_i - b\\right) = 0 $$\n",
    "which corresponds to the following system of linear equations:\n",
    "$$   a\\sum_i X_i^2 + b \\sum_iX_i = \\sum_i  X_iY_i $$\n",
    "$$   a\\sum_iX_i + b = \\sum_i  Y_i $$\n",
    "\n",
    "$$ \\begin{bmatrix} \n",
    "\\sum_i X_i^2 &  \\sum_iX_i\\\\ \n",
    "\\sum_iX_i &  1 \\\\  \n",
    "\\end{bmatrix} \n",
    "\\times \n",
    "\\begin{bmatrix} \n",
    "a \\\\ \n",
    "b \\\\\n",
    "\\end{bmatrix} \n",
    "=  \n",
    "\\begin{bmatrix}\n",
    "\\sum_i  X_iY_i \\\\\n",
    "\\sum_i  Y_i \\\\\n",
    "\\end{bmatrix}\n",
    "$$\n"
   ]
  },
  {
   "cell_type": "markdown",
   "metadata": {},
   "source": [
    "## A simple example"
   ]
  },
  {
   "cell_type": "markdown",
   "metadata": {},
   "source": [
    "### First we generate some data points with noise"
   ]
  },
  {
   "cell_type": "code",
   "execution_count": null,
   "metadata": {
    "collapsed": false
   },
   "outputs": [],
   "source": [
    "%pylab inline"
   ]
  },
  {
   "cell_type": "code",
   "execution_count": null,
   "metadata": {
    "collapsed": false
   },
   "outputs": [],
   "source": [
    "N = 10\n",
    "a, b = 1.1, 2.2\n",
    "# -- abscissa X between 1 and 2\n",
    "X = 1+np.random.rand(N) \n",
    "Y = a*X + b \n",
    "# -- adding gaussian noise\n",
    "E = 0.2*np.ones(N)\n",
    "Y += E*np.random.randn(N)"
   ]
  },
  {
   "cell_type": "markdown",
   "metadata": {},
   "source": [
    "### We plot our points and the simple analytical polynomial fit\n",
    "np.polyfit provides a simple yet complete implementation of the polynomial fit."
   ]
  },
  {
   "cell_type": "code",
   "execution_count": null,
   "metadata": {
    "collapsed": false
   },
   "outputs": [],
   "source": [
    "plt.errorbar(X, Y, yerr=E, marker='o', color='k', label='data points', linestyle='')\n",
    "c = np.polyfit(X, Y, 1)\n",
    "_x = np.linspace(1,2,10); plt.xlim(_x.min(), _x.max())\n",
    "print 'a=', a, '->', c[0]\n",
    "print 'b=', b, '->', c[1]\n",
    "plt.plot(_x, np.polyval(c,_x), '-r', linewidth=2, label='fit')\n",
    "plt.plot(_x, np.polyval([a,b],_x), '--r', linewidth=2, label='true')\n",
    "plt.legend(loc='upper left')"
   ]
  },
  {
   "cell_type": "markdown",
   "metadata": {},
   "source": [
    "## Incertainties on 'a' and 'b'?\n",
    "The statistical uncertainties can be computed using the 2nd order derivatives of the $\\chi^2$. Assuming that the data have a Gaussian (and uncorrelated) noise, the errors are accessible in the covariance matrix from np.polyfit."
   ]
  },
  {
   "cell_type": "code",
   "execution_count": null,
   "metadata": {
    "collapsed": false
   },
   "outputs": [],
   "source": [
    "c, cov = np.polyfit(X, Y, 1, cov=True)\n",
    "print 'a =', a, '->', c[0], '+/-', np.sqrt(cov[0,0])\n",
    "print 'b =', b, '->', c[1], '+/-', np.sqrt(cov[1,1])\n",
    "plt.plot(a, b, 'or')\n",
    "plt.errorbar(c[0], c[1], xerr=np.sqrt(cov[0,0]), yerr=np.sqrt(cov[1,1]))\n",
    "print cov"
   ]
  },
  {
   "cell_type": "markdown",
   "metadata": {},
   "source": [
    "## Extrapolating / Interpolating\n",
    "\n",
    "- You **interpolate** Y to values **within** the range of the data X_i\n",
    "- You **extrapolate** Y to values **outside** the range of the data X_i\n",
    "\n",
    "In both cases, one should attribute an uncertainty to the extrapolated / interpolated value...\n",
    "\n",
    "In other words, **how to compute this uncertainty from the parameters (a,b) value and uncertainties?**"
   ]
  },
  {
   "cell_type": "code",
   "execution_count": null,
   "metadata": {
    "collapsed": false
   },
   "outputs": [],
   "source": [
    "plt.plot(X, Y, 'ok') # original data points\n",
    "_x = linspace(0.5,2.5,100)\n",
    "for i in range(500):\n",
    "    p = [c[0]+np.random.randn()*np.sqrt(cov[0,0]),\n",
    "         c[1]+np.random.randn()*np.sqrt(cov[1,1])]\n",
    "    plt.plot(_x, np.polyval(p, _x), '-r', alpha=0.02)\n",
    "plt.plot(_x, np.polyval(c,_x), '-r', linewidth=2, label='fit')\n",
    "plt.plot(_x, np.polyval([a,b],_x), '--r', linewidth=2, label='true')\n",
    "plt.legend(loc='upper left')"
   ]
  },
  {
   "cell_type": "markdown",
   "metadata": {},
   "source": [
    "Gut Feelings:\n",
    "- uncertainty on interpolation should be of the order of data scatter\n",
    "- uncertainty on extrapolation should increase as we go further away from the original data set\n",
    "\n",
    "\n",
    "\n",
    "\n",
    "**What is happening??? **"
   ]
  },
  {
   "cell_type": "markdown",
   "metadata": {},
   "source": [
    "### Fitted parameters 'a' and 'b' are correlated\n",
    "The correlation factor is the non-diagonal term on the covariance matrix"
   ]
  },
  {
   "cell_type": "code",
   "execution_count": null,
   "metadata": {
    "collapsed": false
   },
   "outputs": [],
   "source": [
    "print 'correlation a, b =', cov[1,0]/np.sqrt(cov[0,0]*cov[1,1])"
   ]
  },
  {
   "cell_type": "code",
   "execution_count": null,
   "metadata": {
    "collapsed": false
   },
   "outputs": [],
   "source": [
    "tmp = np.random.multivariate_normal(c, cov, 1000)\n",
    "plt.plot(tmp[:,0], tmp[:,1], '.k', alpha=0.2)\n",
    "plt.plot(a, b, 'or')\n",
    "plt.errorbar(c[0], c[1], xerr=np.sqrt(cov[0,0]), yerr=np.sqrt(cov[1,1]), linewidth=2)"
   ]
  },
  {
   "cell_type": "code",
   "execution_count": null,
   "metadata": {
    "collapsed": false,
    "scrolled": true
   },
   "outputs": [],
   "source": [
    "plt.plot(X, Y, 'ok') # original data points\n",
    "_x = linspace(0.5,2.5,100)\n",
    "for i in range(500):\n",
    "    p = np.random.multivariate_normal(c, cov)\n",
    "    plt.plot(_x, np.polyval(p, _x), '-r', alpha=0.015)\n",
    "plt.plot(_x, np.polyval(c,_x), '-r', linewidth=2, label='fit')\n",
    "plt.plot(_x, np.polyval([a,b],_x), '--r', linewidth=2, label='true')\n",
    "plt.legend(loc='upper left')"
   ]
  },
  {
   "cell_type": "markdown",
   "metadata": {},
   "source": [
    "## How do I get an uncorrelated parametrization?\n",
    "In the case of a linear fit, use mean-centered data. In the case of the linear fit, it removes the non-diagonal terms in the linear system: \n",
    "$$ \\begin{bmatrix} \n",
    "\\sum_i X_i^2 &  \\sum_iX_i=0\\\\ \n",
    "\\sum_iX_i=0 &  1 \\\\  \n",
    "\\end{bmatrix} \n",
    "\\times \n",
    "\\begin{bmatrix} \n",
    "a \\\\ \n",
    "b \\\\\n",
    "\\end{bmatrix} \n",
    "=  \n",
    "\\begin{bmatrix}\n",
    "\\sum_i  X_iY_i \\\\\n",
    "\\sum_i  Y_i \\\\\n",
    "\\end{bmatrix}\n",
    "$$\n",
    "then $a = \\frac{1}{\\sum_i X_i^2}\\sum_i  X_iY_i $ and $b=\\sum_i  Y_i$. b is simply the average of Y and a is the correlation between X and Y, normalized to the autocorrelation of the X. a and b are uncorrelated because if one shift all Y by a certain value c, it will shift b not not a:\n",
    "$$ \\frac{1}{\\sum_i X_i^2}\\sum_i  X_i(Y_i + c) = \\frac{1}{\\sum_i X_i^2}c\\sum_i  X_i + \\frac{1}{\\sum_i X_i^2}\\sum_i  X_iY_i = \\frac{1}{\\sum_i X_i^2}\\sum_i  X_iY_i$$"
   ]
  },
  {
   "cell_type": "code",
   "execution_count": null,
   "metadata": {
    "collapsed": false
   },
   "outputs": [],
   "source": [
    "print '-- Naive approch (correlated):'\n",
    "print '  Y = a*X + b'\n",
    "c, cov = np.polyfit(X, Y, 1, cov=True)\n",
    "print ' a =', a, '->', c[0], '+/-', np.sqrt(cov[0,0])\n",
    "print ' b =', b, '->', c[1], '+/-', np.sqrt(cov[1,1])\n",
    "print ' correlation a, b =', cov[1,0]/np.sqrt(cov[0,0]*cov[1,1])\n",
    "print '-- Mean-centered data set (uncorrelated):'\n",
    "print '  Y = a*(X-%f) + b'%1.5\n",
    "c, cov = np.polyfit(X-1.5, Y, 1, cov=True)\n",
    "print ' a ->', c[0], '+/-', np.sqrt(cov[0,0])\n",
    "print ' b ->', c[1], '+/-', np.sqrt(cov[1,1])\n",
    "print ' correlation a, b =', cov[1,0]/np.sqrt(cov[0,0]*cov[1,1])"
   ]
  },
  {
   "cell_type": "markdown",
   "metadata": {},
   "source": [
    "The above parametrization is superior:\n",
    "- user friendly for people who want to use your model\n",
    "- actually more meaningful: **the zero-point is much better constrained**"
   ]
  },
  {
   "cell_type": "code",
   "execution_count": null,
   "metadata": {
    "collapsed": false
   },
   "outputs": [],
   "source": [
    "plt.plot(X, Y, 'ok') # original data points\n",
    "_x = linspace(0.5,2.5,100)\n",
    "for i in range(500):\n",
    "    p = [c[0]+np.random.randn()*np.sqrt(cov[0,0]),\n",
    "         c[1]+np.random.randn()*np.sqrt(cov[1,1])]\n",
    "    plt.plot(_x, np.polyval(p, _x-X.mean()), '-r', alpha=0.015)\n",
    "plt.plot(_x, np.polyval(c,_x-X.mean()), '-r', linewidth=2, label='fit')\n",
    "plt.plot(_x, np.polyval([a,b],_x), '--r', linewidth=2, label='true')\n",
    "plt.legend(loc='upper left')"
   ]
  },
  {
   "cell_type": "code",
   "execution_count": null,
   "metadata": {
    "collapsed": true
   },
   "outputs": [],
   "source": []
  }
 ],
 "metadata": {
  "kernelspec": {
   "display_name": "Python 2",
   "language": "python",
   "name": "python2"
  },
  "language_info": {
   "codemirror_mode": {
    "name": "ipython",
    "version": 2
   },
   "file_extension": ".py",
   "mimetype": "text/x-python",
   "name": "python",
   "nbconvert_exporter": "python",
   "pygments_lexer": "ipython2",
   "version": "2.7.11"
  }
 },
 "nbformat": 4,
 "nbformat_minor": 0
}
