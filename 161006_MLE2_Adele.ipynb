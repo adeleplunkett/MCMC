{
 "cells": [
  {
   "cell_type": "markdown",
   "metadata": {},
   "source": [
    "## Just some useful lines to begin"
   ]
  },
  {
   "cell_type": "code",
   "execution_count": 129,
   "metadata": {
    "collapsed": true
   },
   "outputs": [],
   "source": [
    "import numpy as np\n",
    "from matplotlib import pyplot as plt\n",
    "from astroML.plotting import setup_text_plots\n",
    "setup_text_plots(fontsize=8, usetex=True)\n",
    "%matplotlib inline"
   ]
  },
  {
   "cell_type": "markdown",
   "metadata": {},
   "source": [
    "## Coin flip example"
   ]
  },
  {
   "cell_type": "code",
   "execution_count": 8,
   "metadata": {
    "collapsed": false
   },
   "outputs": [
    {
     "data": {
      "text/plain": [
       "array([1, 1, 1, 1, 0, 0, 1, 1, 1, 1])"
      ]
     },
     "execution_count": 8,
     "metadata": {},
     "output_type": "execute_result"
    }
   ],
   "source": [
    "#Flip a coin 10 times: how do we know is it \"fair\"?\n",
    "np.random.randint(2,size=10)"
   ]
  },
  {
   "cell_type": "code",
   "execution_count": 18,
   "metadata": {
    "collapsed": false
   },
   "outputs": [
    {
     "name": "stdout",
     "output_type": "stream",
     "text": [
      "Mean number of heads: 5.12\n",
      "How many times were there 8 heads? 9\n"
     ]
    }
   ],
   "source": [
    "#We got 8 tails!  Seems unfair.  But, we expect to get 8 heads less than 5.4% of the time!\n",
    "#At this rate, we cannot reject the \"null\" (that the coin is indeed fair) at better than (the typical) 0.05 level\n",
    "#We need more coin flips.\n",
    "#Flip a coin 100x10 times to test: is it \"fair\"?\n",
    "#Reject the \"null\" (the coin is fair) only if we get \n",
    "flipcoin = np.random.randint(2,size=(1e2,10))\n",
    "sumrows = np.sum(flipcoin,axis=1)\n",
    "print('Mean number of heads: {}'.format(np.mean(sumrows)))\n",
    "print('How many times were there 8 heads? {}'.format(np.size(sumrows[sumrows == 8])))\n",
    "#for i in np.arange(sumrows.size): print(flipcoin[i],sumrows[i])"
   ]
  },
  {
   "cell_type": "markdown",
   "metadata": {},
   "source": [
    "## Binomial distribution"
   ]
  },
  {
   "cell_type": "code",
   "execution_count": 115,
   "metadata": {
    "collapsed": true
   },
   "outputs": [],
   "source": [
    "?stats.binom"
   ]
  },
  {
   "cell_type": "code",
   "execution_count": 17,
   "metadata": {
    "collapsed": false
   },
   "outputs": [
    {
     "name": "stdout",
     "output_type": "stream",
     "text": [
      "Probability to get >=8 heads: 0.0546875\n"
     ]
    },
    {
     "data": {
      "image/png": "[encoded data removed]",
      "text/plain": [
       "<matplotlib.figure.Figure at 0x10a3d2190>"
      ]
     },
     "metadata": {},
     "output_type": "display_data"
    }
   ],
   "source": [
    "## THIS FIGURE IS BASED ON FIGURE 3.9\n",
    "# Author: Jake VanderPlas\n",
    "# License: BSD\n",
    "#   The figure produced by this code is published in the textbook\n",
    "#   \"Statistics, Data Mining, and Machine Learning in Astronomy\" (2013)\n",
    "#   For more information, see http://astroML.github.com\n",
    "#   To report a bug or issue, use the following forum:\n",
    "#    https://groups.google.com/forum/#!forum/astroml-general\n",
    "\n",
    "\n",
    "from scipy import stats\n",
    "dist = stats.binom(10,0.5) #N=10,b=0.5 (e.g. coin is fair)\n",
    "r = dist.rvs(10) #the outcome of 10 random flips\n",
    "p = dist.cdf(7) #probability to get >7 heads, k=8,9,or10 successes\n",
    "print('Probability to get >=8 heads: {}'.format(1.-p))\n",
    "#PLOT\n",
    "x = np.arange(-1, 200)\n",
    "fig, ax = plt.subplots(figsize=(5, 3.75))\n",
    "plt.plot(x, dist.pmf(x), ls='-', c='black', label=r'$b=%.1f,\\ n=%i$' %(0.5,10), linestyle='steps-mid')\n",
    "\n",
    "plt.xlim(-0.5, 12)\n",
    "plt.ylim(0, 0.25)\n",
    "\n",
    "plt.xlabel('$x$')\n",
    "plt.ylabel(r'$p(x|b, n)$')\n",
    "plt.title('Binomial Distribution')\n",
    "\n",
    "plt.legend()\n",
    "plt.show()"
   ]
  },
  {
   "cell_type": "markdown",
   "metadata": {},
   "source": [
    "## \"Simple Classification\" figure"
   ]
  },
  {
   "cell_type": "code",
   "execution_count": 22,
   "metadata": {
    "collapsed": false
   },
   "outputs": [
    {
     "data": {
      "image/png": "[encoded data removed]",
      "text/plain": [
       "<matplotlib.figure.Figure at 0x10a3a0190>"
      ]
     },
     "metadata": {},
     "output_type": "display_data"
    }
   ],
   "source": [
    "# FIGURE 4.5\n",
    "# Author: Jake VanderPlas\n",
    "# License: BSD\n",
    "#   The figure produced by this code is published in the textbook\n",
    "#   \"Statistics, Data Mining, and Machine Learning in Astronomy\" (2013)\n",
    "#   For more information, see http://astroML.github.com\n",
    "#   To report a bug or issue, use the following forum:\n",
    "#    https://groups.google.com/forum/#!forum/astroml-general\n",
    "import numpy as np\n",
    "from scipy.stats import norm\n",
    "from matplotlib import pyplot as plt\n",
    "\n",
    "#----------------------------------------------------------------------\n",
    "# This function adjusts matplotlib settings for a uniform feel in the textbook.\n",
    "# Note that with usetex=True, fonts are rendered with LaTeX.  This may\n",
    "# result in an error if LaTeX is not installed on your system.  In that case,\n",
    "# you can set usetex to False.\n",
    "from astroML.plotting import setup_text_plots\n",
    "setup_text_plots(fontsize=12, usetex=True)\n",
    "\n",
    "#------------------------------------------------------------\n",
    "# Generate and draw the curves\n",
    "x = np.linspace(50, 200, 1000)\n",
    "p1 = 0.9 * norm(100, 10).pdf(x)\n",
    "p2 = 0.1 * norm(150, 12).pdf(x)\n",
    "\n",
    "#fig, ax = plt.subplots(figsize=(5, 3.75))\n",
    "fig, ax = plt.subplots(figsize=(10, 7.5))\n",
    "ax.fill(x, p1, ec='k', fc='#AAAAAA', alpha=0.5)\n",
    "ax.fill(x, p2, '-k', fc='#AAAAAA', alpha=0.5)\n",
    "\n",
    "ax.plot([120, 120], [0.0, 0.04], '--k')\n",
    "\n",
    "ax.text(100, 0.036, r'$h_B(x)$', ha='center', va='bottom')\n",
    "ax.text(150, 0.0035, r'$h_S(x)$', ha='center', va='bottom')\n",
    "ax.text(122, 0.039, r'$x_c=120$', ha='left', va='top')\n",
    "ax.text(125, 0.01, r'$(x > x_c\\ {\\rm classified\\ as\\ sources})$')\n",
    "\n",
    "ax.set_xlim(50, 200)\n",
    "ax.set_ylim(0, 0.04)\n",
    "\n",
    "ax.set_xlabel('$x$')\n",
    "ax.set_ylabel('$p(x)$')\n",
    "plt.show()"
   ]
  },
  {
   "cell_type": "markdown",
   "metadata": {},
   "source": [
    "## Testing regression toward the mean"
   ]
  },
  {
   "cell_type": "code",
   "execution_count": 30,
   "metadata": {
    "collapsed": false
   },
   "outputs": [
    {
     "name": "stdout",
     "output_type": "stream",
     "text": [
      "[ 52.01558979  71.02403619  74.43712062  59.23350058  95.05036803\n",
      "  81.06750977  47.20397508  73.28095642  59.51837542  97.16661682]\n"
     ]
    }
   ],
   "source": [
    "import numpy as np\n",
    "from scipy import stats\n",
    "vals = np.random.normal(loc=70,scale=20,size=10)\n",
    "print vals\n"
   ]
  },
  {
   "cell_type": "code",
   "execution_count": 32,
   "metadata": {
    "collapsed": false
   },
   "outputs": [
    {
     "data": {
      "text/plain": [
       "HistogramResult(count=array([ 1.,  1.,  2.,  0.,  1.,  2.,  1.,  0.,  0.,  2.]), lowerlimit=44.428272764617496, binsize=5.5514046378534871, extrapoints=0)"
      ]
     },
     "execution_count": 32,
     "metadata": {},
     "output_type": "execute_result"
    }
   ],
   "source": [
    "stats.histogram(vals)"
   ]
  },
  {
   "cell_type": "code",
   "execution_count": 31,
   "metadata": {
    "collapsed": true
   },
   "outputs": [],
   "source": [
    "?stats\n"
   ]
  },
  {
   "cell_type": "markdown",
   "metadata": {},
   "source": [
    "## NON-PARAMETRIC"
   ]
  },
  {
   "cell_type": "code",
   "execution_count": 34,
   "metadata": {
    "collapsed": false
   },
   "outputs": [
    {
     "name": "stdout",
     "output_type": "stream",
     "text": [
      "______________________________________________________________________\n",
      "  Kolmogorov-Smirnov test: D = 0.0076  p = 0.6\n",
      "  Anderson-Darling test: A^2 = 0.29\n",
      "    significance  | critical value \n",
      "    --------------|----------------\n",
      "    0.58          | 15.0%\n",
      "    0.66          | 10.0%\n",
      "    0.79          | 5.0%\n",
      "    0.92          | 2.5%\n",
      "    1.09          | 1.0%\n",
      "  Shapiro-Wilk test: W = 1 p = 0.59\n",
      "  Z_1 = 0.2\n",
      "  Z_2 = 1.0\n",
      "______________________________________________________________________\n",
      "  Kolmogorov-Smirnov test: D = 0.28  p = 0\n",
      "  Anderson-Darling test: A^2 = 1.9e+02\n",
      "    significance  | critical value \n",
      "    --------------|----------------\n",
      "    0.58          | 15.0%\n",
      "    0.66          | 10.0%\n",
      "    0.79          | 5.0%\n",
      "    0.92          | 2.5%\n",
      "    1.09          | 1.0%\n",
      "  Shapiro-Wilk test: W = 0.94 p = 0\n",
      "  Z_1 = 32.2\n",
      "  Z_2 = 2.5\n"
     ]
    },
    {
     "data": {
      "image/png": "[encoded data removed]",
      "text/plain": [
       "<matplotlib.figure.Figure at 0x10b505390>"
      ]
     },
     "metadata": {},
     "output_type": "display_data"
    }
   ],
   "source": [
    "# Author: Jake VanderPlas\n",
    "# License: BSD\n",
    "#   The figure produced by this code is published in the textbook\n",
    "#   \"Statistics, Data Mining, and Machine Learning in Astronomy\" (2013)\n",
    "#   For more information, see http://astroML.github.com\n",
    "#   To report a bug or issue, use the following forum:\n",
    "#    https://groups.google.com/forum/#!forum/astroml-general\n",
    "import numpy as np\n",
    "from scipy import stats\n",
    "from matplotlib import pyplot as plt\n",
    "\n",
    "#----------------------------------------------------------------------\n",
    "# This function adjusts matplotlib settings for a uniform feel in the textbook.\n",
    "# Note that with usetex=True, fonts are rendered with LaTeX.  This may\n",
    "# result in an error if LaTeX is not installed on your system.  In that case,\n",
    "# you can set usetex to False.\n",
    "from astroML.plotting import setup_text_plots\n",
    "setup_text_plots(fontsize=8, usetex=True)\n",
    "\n",
    "from astroML.stats import mean_sigma, median_sigmaG\n",
    "\n",
    "# create some distributions\n",
    "np.random.seed(1)\n",
    "normal_vals = stats.norm(loc=0, scale=1).rvs(10000)\n",
    "dual_vals = stats.norm(0, 1).rvs(10000)\n",
    "dual_vals[:4000] = stats.norm(loc=3, scale=2).rvs(4000)\n",
    "\n",
    "x = np.linspace(-4, 10, 1000)\n",
    "normal_pdf = stats.norm(0, 1).pdf(x)\n",
    "dual_pdf = 0.6 * stats.norm(0, 1).pdf(x) + 0.4 * stats.norm(3, 2).pdf(x)\n",
    "\n",
    "vals = [normal_vals, dual_vals]\n",
    "pdf = [normal_pdf, dual_pdf]\n",
    "xlims = [(-4, 4), (-4, 10)]\n",
    "\n",
    "\n",
    "#------------------------------------------------------------\n",
    "# Compute the statistics and plot the results\n",
    "fig = plt.figure(figsize=(5, 7))\n",
    "fig.subplots_adjust(left=0.13, right=0.95,\n",
    "                    bottom=0.06, top=0.95,\n",
    "                    hspace=0.1)\n",
    "\n",
    "for i in range(2):\n",
    "    ax = fig.add_subplot(2, 1, 1 + i)  # 2 x 1 subplot\n",
    "\n",
    "    # compute some statistics\n",
    "    A2, sig, crit = stats.anderson(vals[i])\n",
    "    D, pD = stats.kstest(vals[i], \"norm\")\n",
    "    W, pW = stats.shapiro(vals[i])\n",
    "\n",
    "    mu, sigma = mean_sigma(vals[i], ddof=1)\n",
    "    median, sigmaG = median_sigmaG(vals[i])\n",
    "\n",
    "    N = len(vals[i])\n",
    "    Z1 = 1.3 * abs(mu - median) / sigma * np.sqrt(N)\n",
    "    Z2 = 1.1 * abs(sigma / sigmaG - 1) * np.sqrt(N)\n",
    "\n",
    "    print 70 * '_'\n",
    "    print \"  Kolmogorov-Smirnov test: D = %.2g  p = %.2g\" % (D, pD)\n",
    "    print \"  Anderson-Darling test: A^2 = %.2g\" % A2\n",
    "    print \"    significance  | critical value \"\n",
    "    print \"    --------------|----------------\"\n",
    "    for j in range(len(sig)):\n",
    "        print \"    %.2f          | %.1f%%\" % (sig[j], crit[j])\n",
    "    print \"  Shapiro-Wilk test: W = %.2g p = %.2g\" % (W, pW)\n",
    "    print \"  Z_1 = %.1f\" % Z1\n",
    "    print \"  Z_2 = %.1f\" % Z2\n",
    "\n",
    "    # plot a histogram\n",
    "    ax.hist(vals[i], bins=50, normed=True, histtype='stepfilled', alpha=0.5)\n",
    "    ax.plot(x, pdf[i], '-k')\n",
    "    ax.set_xlim(xlims[i])\n",
    "\n",
    "    # print information on the plot\n",
    "    info = \"Anderson-Darling: $A^2 = %.2f$\\n\" % A2\n",
    "    info += \"Kolmogorov-Smirnov: $D = %.2g$\\n\" % D\n",
    "    info += \"Shapiro-Wilk: $W = %.2g$\\n\" % W\n",
    "    info += \"$Z_1 = %.1f$\\n$Z_2 = %.1f$\" % (Z1, Z2)\n",
    "    ax.text(0.97, 0.97, info,\n",
    "            ha='right', va='top', transform=ax.transAxes)\n",
    "\n",
    "    if i == 0:\n",
    "        ax.set_ylim(0, 0.55)\n",
    "    else:\n",
    "        ax.set_ylim(0, 0.35)\n",
    "        ax.set_xlabel('$x$')\n",
    "\n",
    "    ax.set_ylabel('$p(x)$')\n",
    "\n",
    "plt.show()"
   ]
  },
  {
   "cell_type": "markdown",
   "metadata": {},
   "source": [
    "## VARIOUS TESTS"
   ]
  },
  {
   "cell_type": "code",
   "execution_count": 119,
   "metadata": {
    "collapsed": false,
    "scrolled": true
   },
   "outputs": [
    {
     "name": "stdout",
     "output_type": "stream",
     "text": [
      "D-value:0.0206732163437; p-value:0.786190461279\n"
     ]
    }
   ],
   "source": [
    "## KS test\n",
    "## Sensitive to location, scale, shape of distribution\n",
    "## See also ks_2samp, ksone\n",
    "import numpy as np\n",
    "from scipy import stats\n",
    "N = 1e3\n",
    "vals = np.random.normal(loc=0, scale=1, size=N)\n",
    "stat,pval = stats.kstest(vals,\"norm\")\n",
    "print('D-value:{}; p-value:{}'.format(stat,pval))"
   ]
  },
  {
   "cell_type": "code",
   "execution_count": 122,
   "metadata": {
    "collapsed": false
   },
   "outputs": [
    {
     "name": "stdout",
     "output_type": "stream",
     "text": [
      "(4960942.0, 0.34166483107473788)\n",
      "compare with N1N2/2: 500000.0\n",
      "(-0.78344684016717703, 0.43338162990497386)\n"
     ]
    }
   ],
   "source": [
    "## U test, or Mann-Whitney-Wilcoxon, or Wilcoxon Rank-sum test\n",
    "## Test whether 2 data sets are drawn from distributions with different location parameters \n",
    "## i.e. different mean, same shape\n",
    "## If known to be Gaussian, the test is called t test.\n",
    "## i.e. different mu, same sigma\n",
    "import numpy as np\n",
    "from scipy import stats\n",
    "N = 1e3\n",
    "#x,y = np.random.normal(0,1,size=(2,N))\n",
    "x= np.random.normal(0,1,size=N)\n",
    "y= np.random.normal(0,1,size=1e4)\n",
    "Tu, Pu = stats.mannwhitneyu(x,y)\n",
    "print(Tu,Pu) #reutrns Mann-whitney statistics, one-sided p-value\n",
    "print('compare with N1N2/2: {}'.format(N*N/2))\n",
    "## If result is similar to N1N2/2, these draw from same distribution\n",
    "t,p = stats.ttest_ind(x,y)\n",
    "print(t,p) #returns t-statistic, two-tailed p-value"
   ]
  },
  {
   "cell_type": "code",
   "execution_count": 82,
   "metadata": {
    "collapsed": false
   },
   "outputs": [
    {
     "name": "stdout",
     "output_type": "stream",
     "text": [
      "(240561.0, 0.28888019322445824)\n"
     ]
    }
   ],
   "source": [
    "## Wilcoxon signed-rank test\n",
    "## Compare means of 2 distributions, i.e. measure \"before\" and \"after\"\n",
    "## Distributions have same number of elements N\n",
    "N=1e3\n",
    "x,y = np.random.normal(0,1,size=(2,N))\n",
    "Tw,pw = stats.wilcoxon(x,y)\n",
    "print(Tw,pw)"
   ]
  },
  {
   "cell_type": "code",
   "execution_count": 101,
   "metadata": {
    "collapsed": false
   },
   "outputs": [
    {
     "name": "stdout",
     "output_type": "stream",
     "text": [
      "Anderson-Darling 0.506415872302\n",
      "K-S Test 0.283268292611\n",
      "Shapiro-Wilk 0.998545765877\n"
     ]
    }
   ],
   "source": [
    "## Anderson-Darling test\n",
    "## Test whether the distribution is gaussian\n",
    "N=1e3\n",
    "x = np.random.normal(0,1,size=N)\n",
    "A, crit, sig = stats.anderson(x,'norm')\n",
    "print('Anderson-Darling {}'.format(A))\n",
    "## K-S Test \n",
    "D, pD = stats.kstest(vals[i], \"norm\")\n",
    "print('K-S Test {}'.format(D))\n",
    "## Shapiro-Wilk (sensitive to outliers in the Gaussian tails)\n",
    "s1, s2 = stats.shapiro(x)\n",
    "print('Shapiro-Wilk {}'.format(s1)) #Value close to 1 means Gaussian\n"
   ]
  },
  {
   "cell_type": "code",
   "execution_count": 95,
   "metadata": {
    "collapsed": false
   },
   "outputs": [
    {
     "name": "stdout",
     "output_type": "stream",
     "text": [
      "(0.92748238845765041, 0.33563452038854813)\n"
     ]
    }
   ],
   "source": [
    "## F test\n",
    "## Compare variances of two samples\n",
    "N=1e3\n",
    "x,y = np.random.normal(0,1,size=(2,N))\n",
    "F,pf = stats.f_oneway(x,y)\n",
    "print(F,pf)"
   ]
  },
  {
   "cell_type": "markdown",
   "metadata": {},
   "source": [
    "## Histograms"
   ]
  },
  {
   "cell_type": "code",
   "execution_count": 137,
   "metadata": {
    "collapsed": false
   },
   "outputs": [
    {
     "data": {
      "text/plain": [
       "(array([  1.,   1.,   0.,   2.,   4.,   2.,   2.,   2.,   8.,   9.,  12.,\n",
       "         13.,  20.,  30.,  14.,  17.,  31.,  35.,  43.,  34.,  42.,  47.,\n",
       "         51.,  55.,  60.,  52.,  47.,  53.,  48.,  40.,  26.,  42.,  25.,\n",
       "         19.,  20.,  24.,  11.,   9.,   8.,  12.,   7.,   7.,   7.,   2.,\n",
       "          1.,   1.,   1.,   2.,   0.,   1.]),\n",
       " array([-3.19489386, -3.06533314, -2.93577242, -2.80621169, -2.67665097,\n",
       "        -2.54709025, -2.41752953, -2.28796881, -2.15840809, -2.02884737,\n",
       "        -1.89928665, -1.76972593, -1.6401652 , -1.51060448, -1.38104376,\n",
       "        -1.25148304, -1.12192232, -0.9923616 , -0.86280088, -0.73324016,\n",
       "        -0.60367944, -0.47411872, -0.34455799, -0.21499727, -0.08543655,\n",
       "         0.04412417,  0.17368489,  0.30324561,  0.43280633,  0.56236705,\n",
       "         0.69192777,  0.8214885 ,  0.95104922,  1.08060994,  1.21017066,\n",
       "         1.33973138,  1.4692921 ,  1.59885282,  1.72841354,  1.85797426,\n",
       "         1.98753499,  2.11709571,  2.24665643,  2.37621715,  2.50577787,\n",
       "         2.63533859,  2.76489931,  2.89446003,  3.02402075,  3.15358147,\n",
       "         3.2831422 ]),\n",
       " <a list of 50 Patch objects>)"
      ]
     },
     "execution_count": 137,
     "metadata": {},
     "output_type": "execute_result"
    },
    {
     "data": {
      "image/png": "[encoded data removed]",
      "text/plain": [
       "<matplotlib.figure.Figure at 0x10f779b90>"
      ]
     },
     "metadata": {},
     "output_type": "display_data"
    }
   ],
   "source": [
    "## SIMPLE HISTOGRAM\n",
    "N=1e3\n",
    "x = np.random.normal(size=N)\n",
    "counts, bins = np.histogram(x,bins=50) #for computing, but not plotting a histogram\n",
    "plt.hist(x,bins=bins) #for plotting a histogram"
   ]
  },
  {
   "cell_type": "code",
   "execution_count": 139,
   "metadata": {
    "collapsed": false
   },
   "outputs": [
    {
     "data": {
      "text/plain": [
       "(array([   2.,    2.,    6.,    4.,   18.,   29.,   52.,   35.,   74.,\n",
       "          82.,   95.,  110.,  110.,   97.,   76.,   74.,   37.,   38.,\n",
       "          16.,   21.,   14.,    3.,    3.,    1.,    1.]),\n",
       " array([-3.19489386, -2.9293616 , -2.66382934, -2.39829708, -2.13276482,\n",
       "        -1.86723256, -1.6017003 , -1.33616804, -1.07063578, -0.80510352,\n",
       "        -0.53957126, -0.274039  , -0.00850674,  0.25702552,  0.52255778,\n",
       "         0.78809004,  1.0536223 ,  1.31915456,  1.58468681,  1.85021907,\n",
       "         2.11575133,  2.38128359,  2.64681585,  2.91234811,  3.17788037,\n",
       "         3.44341263]),\n",
       " <a list of 25 Patch objects>)"
      ]
     },
     "execution_count": 139,
     "metadata": {},
     "output_type": "execute_result"
    },
    {
     "data": {
      "image/png": "[encoded data removed]",
      "text/plain": [
       "<matplotlib.figure.Figure at 0x10fadcc90>"
      ]
     },
     "metadata": {},
     "output_type": "display_data"
    }
   ],
   "source": [
    "## For choosing bin-widths\n",
    "from astroML.plotting import hist\n",
    "hist(x, bins='freedman',color='green') #or 'knuth' or 'scott'"
   ]
  },
  {
   "cell_type": "code",
   "execution_count": null,
   "metadata": {
    "collapsed": true
   },
   "outputs": [],
   "source": []
  }
 ],
 "metadata": {
  "kernelspec": {
   "display_name": "Python 2",
   "language": "python",
   "name": "python2"
  },
  "language_info": {
   "codemirror_mode": {
    "name": "ipython",
    "version": 2
   },
   "file_extension": ".py",
   "mimetype": "text/x-python",
   "name": "python",
   "nbconvert_exporter": "python",
   "pygments_lexer": "ipython2",
   "version": "2.7.11"
  }
 },
 "nbformat": 4,
 "nbformat_minor": 0
}
